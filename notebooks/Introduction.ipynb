{
 "cells": [
  {
   "cell_type": "markdown",
   "metadata": {},
   "source": [
    "# Cube in a Box\n",
    "\n",
    "### Visualizing Data\n",
    "\n",
    "\n",
    "The [OpenDatacube](https://github.com/opendatacube) provides an integrated gridded data analysis environment capable of delivering decades of analysis ready earth observation satellite and related data from multiple satellite and other acquisition systems.\n",
    "\n",
    "Cube in a box is an easy to install implementation of the OpenDataCube that provides small case study notebook examples of the open datacubes capabilities.\n",
    "\n"
   ]
  },
  {
   "cell_type": "markdown",
   "metadata": {},
   "source": [
    "Cube in a box automatically indexes the landsat path/rows stored in Amazon's [Landsat archive](https://registry.opendata.aws/landsat-8)  associated with the extent specified in the 'cube in a box' config file. This notebook demonstrates how to load a specific time slice and visualise sensor bands and also how to do a pixel drill.\n",
    "\n",
    "This notebook touches briefly on some the implimented features of the Datacube module, and is only intended to demonstrate functionality."
   ]
  },
  {
   "cell_type": "code",
   "execution_count": null,
   "metadata": {
    "scrolled": true
   },
   "outputs": [],
   "source": [
    "%matplotlib inline\n",
    "import datacube #Load the datacube library\n",
    "import folium\n",
    "import datetime\n",
    "import json\n",
    "from utils.utils import threeBandImage\n",
    "from utils.utils import loadConfigExtent\n",
    "from utils.utils import transformToWGS\n"
   ]
  },
  {
   "cell_type": "markdown",
   "metadata": {},
   "source": [
    "Let's first explore the extent area that had been specified in the config file. \n",
    "Zoom in to the red bounding box in the below map to confirm this is the extent that you're looking to experiment explore. If the config parameters have been set correctly there will be a bounding box over your case study area, if the bounding box is in the right location then Cube in a Box has indexed all relavent Landsat 8 path/rows corresponding the extent."
   ]
  },
  {
   "cell_type": "code",
   "execution_count": null,
   "metadata": {
    "scrolled": false
   },
   "outputs": [],
   "source": [
    "# Load the extents that were saved after the initial index\n",
    "config = json.load(open('/opt/odc/data/configIndex.txt'))\n",
    "lon_min, lon_max, lat_min, lat_max = config['extent']\n",
    "\n",
    "centre = [(lon_min + lon_max)/2, (lat_min + lat_max)/2]\n",
    "rectangle =  [[lat_max, lon_min], [lat_max, lon_max], [lat_min, lon_max] ,[lat_min, lon_min], [lat_max, lon_min]]\n",
    "\n",
    "# Create a map\n",
    "m = folium.Map(location=centre, zoom_start=10)\n",
    "bounds = folium.PolyLine(rectangle, color='red')\n",
    "\n",
    "# Zoom to our area of interest\n",
    "m.fit_bounds([[lat_min, lon_min],[lat_max, lon_max]])\n",
    "bounds.add_to(m)\n",
    "\n",
    "# Show the map\n",
    "m"
   ]
  },
  {
   "cell_type": "code",
   "execution_count": null,
   "metadata": {
    "scrolled": true
   },
   "outputs": [],
   "source": [
    "#Creating an instance of the datacube.\n",
    "dc = datacube.Datacube(app='dc-visualize')"
   ]
  },
  {
   "cell_type": "markdown",
   "metadata": {},
   "source": [
    "In the sample below we load the RGB bands of an extent covering the southern tip of Tasmanaia, Australia. Landsat images on AWS are referenced to WGS 84 so the extent bounds that are entered into the datacube.load() must match the coordinate system in which they're being stored. \n",
    "\n",
    "The datacube.load() command also reprojects into a coordinate system of choice as in the below example in which we've specified epsg - 28355 which corresponds to GDA94 Zone 55.\n",
    "\n",
    "If you'd like to choose your own case-study area make sure you enter an appropriate epsg code.\n",
    "\n",
    "If you'd like to visualize other bands add any of the below measurements,\n",
    "\n",
    "Landsat 8 measurement options are:\n",
    "\n",
    "             ('1', 'coastal_aerosol')\n",
    "             ('2', 'blue')\n",
    "             ('3', 'green')\n",
    "             ('4', 'red')\n",
    "             ('5', 'nir')\n",
    "             ('6', 'swir1')\n",
    "             ('7', 'swir2')\n",
    "             ('8', 'panchromatic')\n",
    "             ('9', 'cirrus')\n",
    "             ('10', 'lwir1')\n",
    "             ('11', 'lwir2')\n",
    "             ('QUALITY', 'quality')]\n"
   ]
  },
  {
   "cell_type": "code",
   "execution_count": null,
   "metadata": {
    "scrolled": true
   },
   "outputs": [],
   "source": [
    "%%time\n",
    "date_range = (datetime.datetime(2017,3,12),datetime.datetime(2017,3,14))\n",
    "ds = dc.load(product='ls8_level1_usgs', x=(extent[0],extent[1]), y=(extent[2],extent[3]), \n",
    "             output_crs = 'epsg:28355', resolution = (-30,30), time = date_range, \n",
    "             measurements = ('red','green','blue'))"
   ]
  },
  {
   "cell_type": "markdown",
   "metadata": {},
   "source": [
    "The datacube.load() returns an [xarray](https://xarray.pydata.org/en/stable/), to understand how to query a datacube it is important to understand the xarray. Click on the documention to find out more, otherwise a number of examples are provided below.\n",
    "\n",
    "The xarray for landsat contains the dimensions of X,Y and Time - for each combination of these dimensions data listed as \"Data Variables\" can be retrieved. "
   ]
  },
  {
   "cell_type": "code",
   "execution_count": null,
   "metadata": {
    "scrolled": true
   },
   "outputs": [],
   "source": [
    "print (ds) #viewing the data"
   ]
  },
  {
   "cell_type": "code",
   "execution_count": null,
   "metadata": {
    "scrolled": true
   },
   "outputs": [],
   "source": [
    "#Query xarray using index, as any python array 0 will retrieve the first record of each dimension\n",
    "print (ds.isel(time = [0], x = [0], y=[0])) \n"
   ]
  },
  {
   "cell_type": "code",
   "execution_count": null,
   "metadata": {
    "scrolled": true
   },
   "outputs": [],
   "source": [
    "#Extract all y measurements between x = 443200 and x = 443500\n",
    "print (ds.sel(x = [443200,443500],  method='nearest')) \n"
   ]
  },
  {
   "cell_type": "markdown",
   "metadata": {},
   "source": [
    "Next we'll display the RGB bands that we have extracted from our cube for the first time slice (time = 0), in order to visualise a comprehendible RGB image we apply a histogram equalisation on each band before displaying."
   ]
  },
  {
   "cell_type": "code",
   "execution_count": null,
   "metadata": {
    "scrolled": true
   },
   "outputs": [],
   "source": [
    "%pylab notebook\n",
    "def callback(event):\n",
    "    global x, y\n",
    "    x, y = int(event.xdata + 0.5), int(event.ydata + 0.5)\n",
    "\n",
    "figsize = [10,10]\n",
    "time = 0\n",
    "img_toshow = threeBandImage(ds,bands = ['red', 'green', 'blue'], time = time)\n",
    "fig = plt.figure(figsize = figsize)\n",
    "fig.canvas.mpl_connect('button_press_event', callback)\n",
    "\n",
    "imshow(img_toshow)\n",
    "ax = plt.gca()\n",
    "ax.set_title(str(ds.time[time].values), fontweight = 'bold', fontsize = 16)\n",
    "ax.set_xticklabels(ds.x.values)\n",
    "ax.set_yticklabels(ds.y.values)\n",
    "ax.set_xlabel('Easting', fontweight = 'bold')\n",
    "ax.set_ylabel('Northing', fontweight = 'bold')"
   ]
  },
  {
   "cell_type": "markdown",
   "metadata": {},
   "source": [
    "Next we'll select a single pixel from the above image and drill through the time dimension to calculate the change in nDVI and quality of the measurements.\n",
    "\n",
    "To select a pixel simply click on the image above and run the below cell."
   ]
  },
  {
   "cell_type": "code",
   "execution_count": null,
   "metadata": {
    "scrolled": true
   },
   "outputs": [],
   "source": [
    "pixelDrillExtent = []\n",
    "for i in [[x,y],[x+1,y+1]]:\n",
    "    xI,yI = i\n",
    "    getLong = ds.isel(x=[xI], y=[yI]).isel(time =0).x.values\n",
    "    getLat = ds.isel(x=[xI], y=[yI]).isel(time =0).y.values\n",
    "    \n",
    "    pixelDrillExtent.append(transformToWGS(getLong, getLat,28355))\n",
    "print pixelDrillExtent"
   ]
  },
  {
   "cell_type": "markdown",
   "metadata": {},
   "source": [
    "By expanding out the time extent and limiting the x,y extent in the datacube.load() we are able to retrieve cross section through time.\n"
   ]
  },
  {
   "cell_type": "code",
   "execution_count": null,
   "metadata": {
    "scrolled": true
   },
   "outputs": [],
   "source": [
    "%%time\n",
    "date_range = (datetime.datetime(2004,3,12),datetime.datetime(2018,3,14))\n",
    "ds1 = dc.load(product='ls8_level1_usgs', x=(pixelDrillExtent[0][0],pixelDrillExtent[1][0]), y=(pixelDrillExtent[0][1],pixelDrillExtent[1][1]), \n",
    "             output_crs = 'epsg:28355', resolution = (-30,30), time = date_range,measurements = ('red','nir','quality'))\n",
    "\n"
   ]
  },
  {
   "cell_type": "code",
   "execution_count": null,
   "metadata": {
    "scrolled": true
   },
   "outputs": [],
   "source": [
    "print (ds1)"
   ]
  },
  {
   "cell_type": "code",
   "execution_count": null,
   "metadata": {
    "scrolled": true
   },
   "outputs": [],
   "source": [
    "pixeldrill = ds1.isel(x = [0], y = [0])\n",
    "\n",
    "ndvi = (pixeldrill.nir.values-pixeldrill.red.values)/(pixeldrill.nir.values+pixeldrill.red.values)\n",
    "\n",
    "ds1['ndvi'] = (('time', 'y','x'), ndvi)\n",
    "#print (ds1)"
   ]
  },
  {
   "cell_type": "code",
   "execution_count": null,
   "metadata": {
    "scrolled": true
   },
   "outputs": [],
   "source": [
    "print (np.ravel(np.ravel(ds1.time.values)))"
   ]
  },
  {
   "cell_type": "code",
   "execution_count": null,
   "metadata": {
    "scrolled": true
   },
   "outputs": [],
   "source": [
    "%matplotlib notebook\n",
    "\n",
    "import matplotlib.pyplot as plt\n",
    "\n",
    "plt.plot(np.ravel(ds1.time.values),np.ravel(ndvi))\n",
    "plt.axis = 'NDVI'\n",
    "plt.show()"
   ]
  }
 ],
 "metadata": {
  "kernelspec": {
   "display_name": "Python 3",
   "language": "python",
   "name": "python3"
  },
  "language_info": {
   "codemirror_mode": {
    "name": "ipython",
    "version": 3
   },
   "file_extension": ".py",
   "mimetype": "text/x-python",
   "name": "python",
   "nbconvert_exporter": "python",
   "pygments_lexer": "ipython3",
   "version": "3.6.3"
  }
 },
 "nbformat": 4,
 "nbformat_minor": 2
}
