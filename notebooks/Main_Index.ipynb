{
 "cells": [
  {
   "cell_type": "markdown",
   "metadata": {},
   "source": [
    "# Cube in a Box\n",
    "\n",
    "### Notebook Index\n",
    "\n",
    "\n",
    "The [OpenDatacube](https://github.com/opendatacube) provides an integrated gridded data analysis environment capable of delivering decades of analysis ready earth observation satellite and related data from multiple satellite and other acquisition systems. \n",
    "\n",
    "The Open Data Cube (ODC) initiative seeks to increase the value and impact of global Earth obervation satellite data by providing an open and freely accessible exploitation archectecture and to foster a community to develop, sustain, and grow the techonology and the breadth and depth of its application. To read more see the [Open Data Cube Initiative Whitepaper](https://github.com/opendatacube/documentation/blob/master/Roadmap/ODC%20White%20Paper.md)\n",
    "\n",
    "The open data cube manual can be found at, http://datacube-core.readthedocs.io/en/latest/.\n",
    "\n",
    "The Open Data Cube as a server technology catalogues earth observation(EO) datasets providing users over a network with the ability to retrieve a multi-source multi-dimensional cube of data. It can also act as a client based tool that accesses EO data stored on external sources such as Amazon AWS servers.\n",
    "\n",
    "We have bundled together a number of open source technologies with the aim of bypassing the Datacube installation and data index/ingestion process straight into demonstrating capabilities of the ODC library and EO algorithms. We have called this bundle Cube in a Box."
   ]
  },
  {
   "cell_type": "markdown",
   "metadata": {},
   "source": [
    "Considering you've reached this far we'll assume you have our docker instance running with all python prerequisite libraries installed, an extent indexed and are now ready to use the ODC as a client to access EO data stored on AWS.\n",
    "\n",
    "Cube in a box automatically indexes the landsat path/rows stored in Amazon's [Landsat archive](https://registry.opendata.aws/landsat-8) associated with the extent specified in the 'cube in a box' config. \n",
    "\n",
    "Zoom in to the red bounding box in the below map to confirm this is the extent that you're looking to experiment explore. If the config parameters have been set correctly there will be a bounding box over your case study area, if the bounding box is in the right location \n",
    "\n",
    "\n",
    "Let's confirm the extent you've specified is correct running the below cell, zooming in to the red bounding box and if the extent is correct then Cube in a Box has indexed all relavent Landsat 8 path/rows corresponding to the extent and you can proceed with the remainder of notebook demonstrations. \n"
   ]
  },
  {
   "cell_type": "code",
   "execution_count": 2,
   "metadata": {},
   "outputs": [
    {
     "data": {
      "text/html": [
       "<div style=\"width:100%;\"><div style=\"position:relative;width:100%;height:0;padding-bottom:60%;\"><iframe src=\"data:text/html;charset=utf-8;base64,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\" style=\"position:absolute;width:100%;height:100%;left:0;top:0;border:none !important;\" allowfullscreen webkitallowfullscreen mozallowfullscreen></iframe></div></div>"
      ],
      "text/plain": [
       "<folium.folium.Map at 0x7f96f65b6f28>"
      ]
     },
     "execution_count": 2,
     "metadata": {},
     "output_type": "execute_result"
    }
   ],
   "source": [
    "import folium\n",
    "import json\n",
    "from utils.utils import loadConfigExtent\n",
    "#Load the extents that were saved after the initial index.\n",
    "config = json.load(open('/opt/odc/data/configIndex.txt'))\n",
    "lon_min,lon_max,lat_min,lat_max = config['extent']\n",
    "\n",
    "centre = [(lon_min + lon_max)/2,(lat_min + lat_max)/2]\n",
    "rectangle= [[lat_max,lon_min],[lat_max,lon_max],[lat_min,lon_max],[lat_min,lon_min], [lat_max, lon_min]]\n",
    "\n",
    "#Create a map\n",
    "m = folium.Map(location=centre, zoom_start=10)\n",
    "bounds = folium.PolyLine(rectangle, color='red')\n",
    "\n",
    "#Zoom to our area of interest\n",
    "m.fit_bounds([[lat_min,lon_min], [lat_max,lon_max]])\n",
    "bounds.add_to(m)\n",
    "\n",
    "#Show the map\n",
    "m"
   ]
  },
  {
   "cell_type": "markdown",
   "metadata": {},
   "source": [
    "# [Basic ODC Functionality](Basic_Functionality.ipynb)\n",
    "\n",
    "The [Basic ODF Functionality](Basic_Functionality.ipynb) notebook runs through the data load command, generating cloud free time slice visualisations and interogating a single pixel over a time span.\n"
   ]
  },
  {
   "cell_type": "markdown",
   "metadata": {},
   "source": [
    "# [Cloud Free Mosaics and Water From Space Algorithm (WoFS)](WoFS.ipynb)\n",
    "\n",
    "[In progress]"
   ]
  }
 ],
 "metadata": {
  "kernelspec": {
   "display_name": "Python 3",
   "language": "python",
   "name": "python3"
  },
  "language_info": {
   "codemirror_mode": {
    "name": "ipython",
    "version": 3
   },
   "file_extension": ".py",
   "mimetype": "text/x-python",
   "name": "python",
   "nbconvert_exporter": "python",
   "pygments_lexer": "ipython3",
   "version": "3.5.2"
  }
 },
 "nbformat": 4,
 "nbformat_minor": 2
}
