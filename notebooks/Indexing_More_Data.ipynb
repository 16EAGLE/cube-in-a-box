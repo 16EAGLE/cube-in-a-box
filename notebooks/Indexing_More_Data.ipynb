{
 "cells": [
  {
   "cell_type": "markdown",
   "metadata": {},
   "source": [
    "# Indexing More Data\n",
    "\n",
    "You can use this notebook to index an area of interest. Add a Lat and Lon center and a buffer (but note that you can only index 10,000 STAC items at a time) and run the steps below to add more data to your local ODC index."
   ]
  },
  {
   "cell_type": "code",
   "execution_count": 1,
   "metadata": {},
   "outputs": [],
   "source": [
    "import os\n",
    "\n",
    "import datacube\n",
    "from satsearch import Search\n",
    "from odc_index.stac_api_to_dc import stac_api_to_odc"
   ]
  },
  {
   "cell_type": "code",
   "execution_count": 2,
   "metadata": {},
   "outputs": [],
   "source": [
    "lon_center = 15\n",
    "lat_center = -15\n",
    "buffer = 1\n",
    "\n",
    "bbox = [lon_center - buffer, lat_center - buffer, lon_center + buffer, lat_center + buffer]\n",
    "\n",
    "start_date = '2017-01-01'\n",
    "end_date = '2021-01-01'\n",
    "\n",
    "collections = ['sentinel-s2-l2a-cogs']\n",
    "\n",
    "config = {\n",
    "    'collections': collections,\n",
    "    'bbox': bbox,\n",
    "    'datetime': f\"{start_date}/{end_date}\"\n",
    "}\n",
    "\n",
    "STAC_API_URL = 'https://explorer.sandbox.dea.ga.gov.au/stac/'\n",
    "\n",
    "os.environ['STAC_API_URL'] = STAC_API_URL"
   ]
  },
  {
   "cell_type": "code",
   "execution_count": 3,
   "metadata": {},
   "outputs": [
    {
     "name": "stdout",
     "output_type": "stream",
     "text": [
      "Found 3936 items that can be indexed\n"
     ]
    }
   ],
   "source": [
    "srch = Search().search(**config)\n",
    "found_items = srch.found()\n",
    "print(f\"Found {found_items} items that can be indexed\")"
   ]
  },
  {
   "cell_type": "code",
   "execution_count": 5,
   "metadata": {},
   "outputs": [
    {
     "name": "stderr",
     "output_type": "stream",
     "text": [
      "ERROR:root:Failed to handle item with KeyError: ''eo:cloud_cover''\n",
      " The URI was https://earth-search.aws.element84.com/v0/collections/sentinel-s2-l2a-cogs/items/S2A_33LWC_20191010_1_L2A\n",
      "ERROR:root:Failed to handle item with KeyError: ''eo:cloud_cover''\n",
      " The URI was https://earth-search.aws.element84.com/v0/collections/sentinel-s2-l2a-cogs/items/S2B_33LVE_20180123_1_L2A\n",
      "ERROR:root:Failed to handle item with KeyError: ''eo:cloud_cover''\n",
      " The URI was https://earth-search.aws.element84.com/v0/collections/sentinel-s2-l2a-cogs/items/S2A_33LUD_20180118_1_L2A\n",
      "ERROR:root:Failed to handle item with KeyError: ''eo:cloud_cover''\n",
      " The URI was https://earth-search.aws.element84.com/v0/collections/sentinel-s2-l2a-cogs/items/S2A_33LVE_20180108_1_L2A\n",
      "ERROR:root:Failed to handle item with KeyError: ''eo:cloud_cover''\n",
      " The URI was https://earth-search.aws.element84.com/v0/collections/sentinel-s2-l2a-cogs/items/S2A_33LXD_20180105_1_L2A\n",
      "ERROR:root:Failed to handle item with KeyError: ''eo:cloud_cover''\n",
      " The URI was https://earth-search.aws.element84.com/v0/collections/sentinel-s2-l2a-cogs/items/S2B_33LWE_20171214_1_L2A\n",
      "ERROR:root:Failed to handle item with KeyError: ''eo:cloud_cover''\n",
      " The URI was https://earth-search.aws.element84.com/v0/collections/sentinel-s2-l2a-cogs/items/S2B_33LWE_20171214_2_L2A\n",
      "ERROR:root:Failed to handle item with KeyError: ''eo:cloud_cover''\n",
      " The URI was https://earth-search.aws.element84.com/v0/collections/sentinel-s2-l2a-cogs/items/S2B_33LUC_20171114_1_L2A\n",
      "ERROR:root:Failed to handle item with KeyError: ''eo:cloud_cover''\n",
      " The URI was https://earth-search.aws.element84.com/v0/collections/sentinel-s2-l2a-cogs/items/S2A_33LVC_20171027_2_L2A\n",
      "ERROR:root:Failed to handle item with KeyError: ''eo:cloud_cover''\n",
      " The URI was https://earth-search.aws.element84.com/v0/collections/sentinel-s2-l2a-cogs/items/S2A_33LVC_20171027_1_L2A\n",
      "ERROR:root:Failed to handle item with KeyError: ''eo:cloud_cover''\n",
      " The URI was https://earth-search.aws.element84.com/v0/collections/sentinel-s2-l2a-cogs/items/S2B_33LWE_20171025_2_L2A\n",
      "ERROR:root:Failed to handle item with KeyError: ''eo:cloud_cover''\n",
      " The URI was https://earth-search.aws.element84.com/v0/collections/sentinel-s2-l2a-cogs/items/S2B_33LWE_20171025_1_L2A\n",
      "ERROR:root:Failed to handle item with KeyError: ''eo:cloud_cover''\n",
      " The URI was https://earth-search.aws.element84.com/v0/collections/sentinel-s2-l2a-cogs/items/S2A_33LWE_20171020_2_L2A\n",
      "ERROR:root:Failed to handle item with KeyError: ''eo:cloud_cover''\n",
      " The URI was https://earth-search.aws.element84.com/v0/collections/sentinel-s2-l2a-cogs/items/S2A_33LUD_20171020_2_L2A\n",
      "ERROR:root:Failed to handle item with KeyError: ''eo:cloud_cover''\n",
      " The URI was https://earth-search.aws.element84.com/v0/collections/sentinel-s2-l2a-cogs/items/S2B_33LUC_20171015_1_L2A\n",
      "ERROR:root:Failed to handle item with KeyError: ''eo:cloud_cover''\n",
      " The URI was https://earth-search.aws.element84.com/v0/collections/sentinel-s2-l2a-cogs/items/S2B_33LWE_20171015_2_L2A\n",
      "ERROR:root:Failed to handle item with KeyError: ''eo:cloud_cover''\n",
      " The URI was https://earth-search.aws.element84.com/v0/collections/sentinel-s2-l2a-cogs/items/S2B_33LWE_20171012_0_L2A\n",
      "ERROR:root:Failed to handle item with KeyError: ''eo:cloud_cover''\n",
      " The URI was https://earth-search.aws.element84.com/v0/collections/sentinel-s2-l2a-cogs/items/S2A_33LWC_20171010_2_L2A\n",
      "ERROR:root:Failed to handle item with KeyError: ''eo:cloud_cover''\n",
      " The URI was https://earth-search.aws.element84.com/v0/collections/sentinel-s2-l2a-cogs/items/S2A_33LWC_20171010_1_L2A\n",
      "ERROR:root:Failed to handle item with KeyError: ''eo:cloud_cover''\n",
      " The URI was https://earth-search.aws.element84.com/v0/collections/sentinel-s2-l2a-cogs/items/S2A_33LXC_20170927_1_L2A\n",
      "ERROR:root:Failed to handle item with KeyError: ''eo:cloud_cover''\n",
      " The URI was https://earth-search.aws.element84.com/v0/collections/sentinel-s2-l2a-cogs/items/S2A_33LXE_20170927_1_L2A\n",
      "ERROR:root:Failed to handle item with KeyError: ''eo:cloud_cover''\n",
      " The URI was https://earth-search.aws.element84.com/v0/collections/sentinel-s2-l2a-cogs/items/S2B_33LVC_20170925_1_L2A\n",
      "ERROR:root:Failed to handle item with KeyError: ''eo:cloud_cover''\n",
      " The URI was https://earth-search.aws.element84.com/v0/collections/sentinel-s2-l2a-cogs/items/S2B_33LVD_20170925_1_L2A\n",
      "ERROR:root:Failed to handle item with KeyError: ''eo:cloud_cover''\n",
      " The URI was https://earth-search.aws.element84.com/v0/collections/sentinel-s2-l2a-cogs/items/S2B_33LUC_20170925_1_L2A\n",
      "ERROR:root:Failed to handle item with KeyError: ''eo:cloud_cover''\n",
      " The URI was https://earth-search.aws.element84.com/v0/collections/sentinel-s2-l2a-cogs/items/S2B_33LWC_20170925_1_L2A\n",
      "ERROR:root:Failed to handle item with KeyError: ''eo:cloud_cover''\n",
      " The URI was https://earth-search.aws.element84.com/v0/collections/sentinel-s2-l2a-cogs/items/S2B_33LWE_20170925_1_L2A\n",
      "ERROR:root:Failed to handle item with KeyError: ''eo:cloud_cover''\n",
      " The URI was https://earth-search.aws.element84.com/v0/collections/sentinel-s2-l2a-cogs/items/S2A_33LXD_20170917_1_L2A\n",
      "ERROR:root:Failed to handle item with KeyError: ''eo:cloud_cover''\n",
      " The URI was https://earth-search.aws.element84.com/v0/collections/sentinel-s2-l2a-cogs/items/S2B_33LXC_20170912_1_L2A\n",
      "ERROR:root:Failed to handle item with KeyError: ''eo:cloud_cover''\n",
      " The URI was https://earth-search.aws.element84.com/v0/collections/sentinel-s2-l2a-cogs/items/S2B_33LUE_20170806_1_L2A\n",
      "ERROR:root:Failed to handle item with KeyError: ''eo:cloud_cover''\n",
      " The URI was https://earth-search.aws.element84.com/v0/collections/sentinel-s2-l2a-cogs/items/S2B_33LVC_20170727_1_L2A\n",
      "ERROR:root:Failed to handle item with KeyError: ''eo:cloud_cover''\n",
      " The URI was https://earth-search.aws.element84.com/v0/collections/sentinel-s2-l2a-cogs/items/S2B_33LXC_20170714_3_L2A\n",
      "ERROR:root:Failed to handle item with KeyError: ''eo:cloud_cover''\n",
      " The URI was https://earth-search.aws.element84.com/v0/collections/sentinel-s2-l2a-cogs/items/S2B_33LWD_20170714_1_L2A\n",
      "ERROR:root:Failed to handle item with KeyError: ''eo:cloud_cover''\n",
      " The URI was https://earth-search.aws.element84.com/v0/collections/sentinel-s2-l2a-cogs/items/S2B_33LWD_20170714_2_L2A\n",
      "ERROR:root:Failed to handle item with KeyError: ''eo:cloud_cover''\n",
      " The URI was https://earth-search.aws.element84.com/v0/collections/sentinel-s2-l2a-cogs/items/S2B_33LWE_20170714_2_L2A\n",
      "ERROR:root:Failed to handle item with KeyError: ''eo:cloud_cover''\n",
      " The URI was https://earth-search.aws.element84.com/v0/collections/sentinel-s2-l2a-cogs/items/S2B_33LWE_20170714_3_L2A\n",
      "ERROR:root:Failed to handle item with KeyError: ''eo:cloud_cover''\n",
      " The URI was https://earth-search.aws.element84.com/v0/collections/sentinel-s2-l2a-cogs/items/S2B_33LWE_20170714_1_L2A\n",
      "ERROR:root:Failed to handle item with KeyError: ''eo:cloud_cover''\n",
      " The URI was https://earth-search.aws.element84.com/v0/collections/sentinel-s2-l2a-cogs/items/S2B_33LWC_20170714_3_L2A\n",
      "ERROR:root:Failed to handle item with KeyError: ''eo:cloud_cover''\n",
      " The URI was https://earth-search.aws.element84.com/v0/collections/sentinel-s2-l2a-cogs/items/S2B_33LVC_20170714_4_L2A\n",
      "ERROR:root:Failed to handle item with KeyError: ''eo:cloud_cover''\n",
      " The URI was https://earth-search.aws.element84.com/v0/collections/sentinel-s2-l2a-cogs/items/S2B_33LWC_20170714_1_L2A\n",
      "ERROR:root:Failed to handle item with KeyError: ''eo:cloud_cover''\n",
      " The URI was https://earth-search.aws.element84.com/v0/collections/sentinel-s2-l2a-cogs/items/S2B_33LWC_20170714_2_L2A\n",
      "ERROR:root:Failed to handle item with KeyError: ''eo:cloud_cover''\n",
      " The URI was https://earth-search.aws.element84.com/v0/collections/sentinel-s2-l2a-cogs/items/S2B_33LXC_20170714_1_L2A\n",
      "ERROR:root:Failed to handle item with KeyError: ''eo:cloud_cover''\n",
      " The URI was https://earth-search.aws.element84.com/v0/collections/sentinel-s2-l2a-cogs/items/S2B_33LWD_20170714_4_L2A\n",
      "ERROR:root:Failed to handle item with KeyError: ''eo:cloud_cover''\n",
      " The URI was https://earth-search.aws.element84.com/v0/collections/sentinel-s2-l2a-cogs/items/S2A_33LVC_20170103_1_L2A\n",
      "ERROR:root:Failed to handle item with KeyError: ''eo:cloud_cover''\n",
      " The URI was https://earth-search.aws.element84.com/v0/collections/sentinel-s2-l2a-cogs/items/S2A_33LUD_20170103_2_L2A\n",
      "ERROR:root:Failed to handle item with KeyError: ''eo:cloud_cover''\n",
      " The URI was https://earth-search.aws.element84.com/v0/collections/sentinel-s2-l2a-cogs/items/S2A_33LUE_20170103_2_L2A\n"
     ]
    },
    {
     "name": "stdout",
     "output_type": "stream",
     "text": [
      "Indexed 3891 out of 3936 with 45 failures.\n"
     ]
    }
   ],
   "source": [
    "dc = datacube.Datacube()\n",
    "\n",
    "indexed, failed = stac_api_to_odc(dc, 's2_l2a', None, False, False, config)\n",
    "print(f\"Indexed {indexed} out of {found_items} with {failed} failures.\")"
   ]
  },
  {
   "cell_type": "code",
   "execution_count": null,
   "metadata": {},
   "outputs": [],
   "source": []
  }
 ],
 "metadata": {
  "kernelspec": {
   "display_name": "Python 3",
   "language": "python",
   "name": "python3"
  },
  "language_info": {
   "codemirror_mode": {
    "name": "ipython",
    "version": 3
   },
   "file_extension": ".py",
   "mimetype": "text/x-python",
   "name": "python",
   "nbconvert_exporter": "python",
   "pygments_lexer": "ipython3",
   "version": "3.6.9"
  }
 },
 "nbformat": 4,
 "nbformat_minor": 4
}
